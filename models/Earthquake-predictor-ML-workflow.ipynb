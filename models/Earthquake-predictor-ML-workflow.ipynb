{
  "cells": [
    {
      "cell_type": "markdown",
      "metadata": {
        "id": "dl2coE15S5Af"
      },
      "source": [
        "# Earthquake predictor ML workflow"
      ]
    },
    {
      "cell_type": "code",
      "execution_count": 48,
      "metadata": {
        "id": "0IcdzW9CS5Ag"
      },
      "outputs": [],
      "source": [
        "import pandas as pd\n",
        "import numpy as np\n",
        "import matplotlib.pyplot as plt\n",
        "from sklearn import preprocessing;\n",
        "from sklearn import model_selection;\n",
        "from sklearn import linear_model;\n",
        "from sklearn.model_selection import train_test_split\n",
        "from sqlalchemy import create_engine\n",
        "import xgboost as xgb\n",
        "import gdown"
      ]
    },
    {
      "cell_type": "markdown",
      "metadata": {
        "id": "WvL5wA9tS5Ah"
      },
      "source": [
        "#### Load training and prediction window data from saved sql database"
      ]
    },
    {
      "cell_type": "code",
      "execution_count": 49,
      "metadata": {
        "colab": {
          "base_uri": "https://localhost:8080/",
          "height": 217
        },
        "id": "TRVOSrg7S5Ah",
        "outputId": "a8fbd8e0-ea59-484a-a050-6a029df4163d"
      },
      "outputs": [
        {
          "output_type": "stream",
          "name": "stdout",
          "text": [
            "Drive already mounted at /content/drive; to attempt to forcibly remount, call drive.mount(\"/content/drive\", force_remount=True).\n",
            "['EarthQuake', 'Earthquake_features']\n"
          ]
        },
        {
          "output_type": "stream",
          "name": "stderr",
          "text": [
            "Downloading...\n",
            "From: https://drive.google.com/uc?id=1B1Yuiuns3cNqa9Bns-_h7DJvjwYwfPLJ\n",
            "To: /content/Earthquakedata.db\n",
            "100%|██████████| 28.7k/28.7k [00:00<00:00, 46.1MB/s]\n",
            "Downloading...\n",
            "From: https://drive.google.com/uc?id=1BRNHjq9nSNSKEge-S4fDUizB5hVYGgP1\n",
            "To: /content/Earthquakedata_predict.db\n",
            "100%|██████████| 2.92M/2.92M [00:00<00:00, 114MB/s]\n"
          ]
        },
        {
          "output_type": "execute_result",
          "data": {
            "text/plain": [
              "'Earthquakedata_predict.db'"
            ],
            "application/vnd.google.colaboratory.intrinsic+json": {
              "type": "string"
            }
          },
          "metadata": {},
          "execution_count": 49
        }
      ],
      "source": [
        "from sqlalchemy import inspect\n",
        "from google.colab import drive\n",
        "drive.mount('/content/drive')\n",
        "db_path = '/content/drive/MyDrive/Natural_Disasters/earthquake/Earthquakedata.db'\n",
        "engine = create_engine(f'sqlite:///{db_path}')\n",
        "inspector = inspect(engine)\n",
        "print(inspector.get_table_names())\n",
        "df_features = pd.read_sql_table('Earthquake_features', con=engine)\n",
        "db1_id = '1B1Yuiuns3cNqa9Bns-_h7DJvjwYwfPLJ'\n",
        "gdown.download(f'https://drive.google.com/uc?id={db1_id}', 'Earthquakedata.db', quiet=False)\n",
        "db2_id =  '1BRNHjq9nSNSKEge-S4fDUizB5hVYGgP1'\n",
        "gdown.download(f'https://drive.google.com/uc?id={db2_id}', 'Earthquakedata_predict.db', quiet=False)"
      ]
    },
    {
      "cell_type": "code",
      "execution_count": 38,
      "metadata": {
        "colab": {
          "base_uri": "https://localhost:8080/",
          "height": 206
        },
        "id": "HWzAJZ2GS5Ai",
        "outputId": "167430e4-b39c-42d3-9a73-7cb69aff8423"
      },
      "outputs": [
        {
          "output_type": "execute_result",
          "data": {
            "text/plain": [
              "         date   depth  mag             place  latitude   longitude  \\\n",
              "0  2020-07-27   76.37  4.2  Papua New Guinea -5.297074  148.894953   \n",
              "1  2020-07-28   88.76  4.3  Papua New Guinea -5.297074  148.894953   \n",
              "2  2020-07-29   83.01  4.4  Papua New Guinea -5.297074  148.894953   \n",
              "3  2020-07-30   10.00  4.9  Papua New Guinea -5.297074  148.894953   \n",
              "4  2020-07-31  195.88  4.3  Papua New Guinea -5.297074  148.894953   \n",
              "\n",
              "   depth_avg_22  depth_avg_15  depth_avg_7  mag_avg_22  mag_avg_15  mag_avg_7  \\\n",
              "0     63.765909     67.072000    79.460000    4.550000    4.573333   4.500000   \n",
              "1     61.451364     67.670000    78.664286    4.540909    4.393333   4.485714   \n",
              "2     64.770000     66.487333    86.885714    4.545455    4.366667   4.485714   \n",
              "3     64.770000     64.040000    85.245714    4.545455    4.426667   4.571429   \n",
              "4     73.219091     75.197333   102.524286    4.531818    4.426667   4.500000   \n",
              "\n",
              "   mag_outcome  \n",
              "0            1  \n",
              "1            1  \n",
              "2            1  \n",
              "3            1  \n",
              "4            1  "
            ],
            "text/html": [
              "\n",
              "  <div id=\"df-5eed220a-30b5-4001-aecc-1aec64643fdc\" class=\"colab-df-container\">\n",
              "    <div>\n",
              "<style scoped>\n",
              "    .dataframe tbody tr th:only-of-type {\n",
              "        vertical-align: middle;\n",
              "    }\n",
              "\n",
              "    .dataframe tbody tr th {\n",
              "        vertical-align: top;\n",
              "    }\n",
              "\n",
              "    .dataframe thead th {\n",
              "        text-align: right;\n",
              "    }\n",
              "</style>\n",
              "<table border=\"1\" class=\"dataframe\">\n",
              "  <thead>\n",
              "    <tr style=\"text-align: right;\">\n",
              "      <th></th>\n",
              "      <th>date</th>\n",
              "      <th>depth</th>\n",
              "      <th>mag</th>\n",
              "      <th>place</th>\n",
              "      <th>latitude</th>\n",
              "      <th>longitude</th>\n",
              "      <th>depth_avg_22</th>\n",
              "      <th>depth_avg_15</th>\n",
              "      <th>depth_avg_7</th>\n",
              "      <th>mag_avg_22</th>\n",
              "      <th>mag_avg_15</th>\n",
              "      <th>mag_avg_7</th>\n",
              "      <th>mag_outcome</th>\n",
              "    </tr>\n",
              "  </thead>\n",
              "  <tbody>\n",
              "    <tr>\n",
              "      <th>0</th>\n",
              "      <td>2020-07-27</td>\n",
              "      <td>76.37</td>\n",
              "      <td>4.2</td>\n",
              "      <td>Papua New Guinea</td>\n",
              "      <td>-5.297074</td>\n",
              "      <td>148.894953</td>\n",
              "      <td>63.765909</td>\n",
              "      <td>67.072000</td>\n",
              "      <td>79.460000</td>\n",
              "      <td>4.550000</td>\n",
              "      <td>4.573333</td>\n",
              "      <td>4.500000</td>\n",
              "      <td>1</td>\n",
              "    </tr>\n",
              "    <tr>\n",
              "      <th>1</th>\n",
              "      <td>2020-07-28</td>\n",
              "      <td>88.76</td>\n",
              "      <td>4.3</td>\n",
              "      <td>Papua New Guinea</td>\n",
              "      <td>-5.297074</td>\n",
              "      <td>148.894953</td>\n",
              "      <td>61.451364</td>\n",
              "      <td>67.670000</td>\n",
              "      <td>78.664286</td>\n",
              "      <td>4.540909</td>\n",
              "      <td>4.393333</td>\n",
              "      <td>4.485714</td>\n",
              "      <td>1</td>\n",
              "    </tr>\n",
              "    <tr>\n",
              "      <th>2</th>\n",
              "      <td>2020-07-29</td>\n",
              "      <td>83.01</td>\n",
              "      <td>4.4</td>\n",
              "      <td>Papua New Guinea</td>\n",
              "      <td>-5.297074</td>\n",
              "      <td>148.894953</td>\n",
              "      <td>64.770000</td>\n",
              "      <td>66.487333</td>\n",
              "      <td>86.885714</td>\n",
              "      <td>4.545455</td>\n",
              "      <td>4.366667</td>\n",
              "      <td>4.485714</td>\n",
              "      <td>1</td>\n",
              "    </tr>\n",
              "    <tr>\n",
              "      <th>3</th>\n",
              "      <td>2020-07-30</td>\n",
              "      <td>10.00</td>\n",
              "      <td>4.9</td>\n",
              "      <td>Papua New Guinea</td>\n",
              "      <td>-5.297074</td>\n",
              "      <td>148.894953</td>\n",
              "      <td>64.770000</td>\n",
              "      <td>64.040000</td>\n",
              "      <td>85.245714</td>\n",
              "      <td>4.545455</td>\n",
              "      <td>4.426667</td>\n",
              "      <td>4.571429</td>\n",
              "      <td>1</td>\n",
              "    </tr>\n",
              "    <tr>\n",
              "      <th>4</th>\n",
              "      <td>2020-07-31</td>\n",
              "      <td>195.88</td>\n",
              "      <td>4.3</td>\n",
              "      <td>Papua New Guinea</td>\n",
              "      <td>-5.297074</td>\n",
              "      <td>148.894953</td>\n",
              "      <td>73.219091</td>\n",
              "      <td>75.197333</td>\n",
              "      <td>102.524286</td>\n",
              "      <td>4.531818</td>\n",
              "      <td>4.426667</td>\n",
              "      <td>4.500000</td>\n",
              "      <td>1</td>\n",
              "    </tr>\n",
              "  </tbody>\n",
              "</table>\n",
              "</div>\n",
              "    <div class=\"colab-df-buttons\">\n",
              "\n",
              "  <div class=\"colab-df-container\">\n",
              "    <button class=\"colab-df-convert\" onclick=\"convertToInteractive('df-5eed220a-30b5-4001-aecc-1aec64643fdc')\"\n",
              "            title=\"Convert this dataframe to an interactive table.\"\n",
              "            style=\"display:none;\">\n",
              "\n",
              "  <svg xmlns=\"http://www.w3.org/2000/svg\" height=\"24px\" viewBox=\"0 -960 960 960\">\n",
              "    <path d=\"M120-120v-720h720v720H120Zm60-500h600v-160H180v160Zm220 220h160v-160H400v160Zm0 220h160v-160H400v160ZM180-400h160v-160H180v160Zm440 0h160v-160H620v160ZM180-180h160v-160H180v160Zm440 0h160v-160H620v160Z\"/>\n",
              "  </svg>\n",
              "    </button>\n",
              "\n",
              "  <style>\n",
              "    .colab-df-container {\n",
              "      display:flex;\n",
              "      gap: 12px;\n",
              "    }\n",
              "\n",
              "    .colab-df-convert {\n",
              "      background-color: #E8F0FE;\n",
              "      border: none;\n",
              "      border-radius: 50%;\n",
              "      cursor: pointer;\n",
              "      display: none;\n",
              "      fill: #1967D2;\n",
              "      height: 32px;\n",
              "      padding: 0 0 0 0;\n",
              "      width: 32px;\n",
              "    }\n",
              "\n",
              "    .colab-df-convert:hover {\n",
              "      background-color: #E2EBFA;\n",
              "      box-shadow: 0px 1px 2px rgba(60, 64, 67, 0.3), 0px 1px 3px 1px rgba(60, 64, 67, 0.15);\n",
              "      fill: #174EA6;\n",
              "    }\n",
              "\n",
              "    .colab-df-buttons div {\n",
              "      margin-bottom: 4px;\n",
              "    }\n",
              "\n",
              "    [theme=dark] .colab-df-convert {\n",
              "      background-color: #3B4455;\n",
              "      fill: #D2E3FC;\n",
              "    }\n",
              "\n",
              "    [theme=dark] .colab-df-convert:hover {\n",
              "      background-color: #434B5C;\n",
              "      box-shadow: 0px 1px 3px 1px rgba(0, 0, 0, 0.15);\n",
              "      filter: drop-shadow(0px 1px 2px rgba(0, 0, 0, 0.3));\n",
              "      fill: #FFFFFF;\n",
              "    }\n",
              "  </style>\n",
              "\n",
              "    <script>\n",
              "      const buttonEl =\n",
              "        document.querySelector('#df-5eed220a-30b5-4001-aecc-1aec64643fdc button.colab-df-convert');\n",
              "      buttonEl.style.display =\n",
              "        google.colab.kernel.accessAllowed ? 'block' : 'none';\n",
              "\n",
              "      async function convertToInteractive(key) {\n",
              "        const element = document.querySelector('#df-5eed220a-30b5-4001-aecc-1aec64643fdc');\n",
              "        const dataTable =\n",
              "          await google.colab.kernel.invokeFunction('convertToInteractive',\n",
              "                                                    [key], {});\n",
              "        if (!dataTable) return;\n",
              "\n",
              "        const docLinkHtml = 'Like what you see? Visit the ' +\n",
              "          '<a target=\"_blank\" href=https://colab.research.google.com/notebooks/data_table.ipynb>data table notebook</a>'\n",
              "          + ' to learn more about interactive tables.';\n",
              "        element.innerHTML = '';\n",
              "        dataTable['output_type'] = 'display_data';\n",
              "        await google.colab.output.renderOutput(dataTable, element);\n",
              "        const docLink = document.createElement('div');\n",
              "        docLink.innerHTML = docLinkHtml;\n",
              "        element.appendChild(docLink);\n",
              "      }\n",
              "    </script>\n",
              "  </div>\n",
              "\n",
              "\n",
              "    <div id=\"df-5324d144-d280-48f1-b14c-7abc741a2fe9\">\n",
              "      <button class=\"colab-df-quickchart\" onclick=\"quickchart('df-5324d144-d280-48f1-b14c-7abc741a2fe9')\"\n",
              "                title=\"Suggest charts\"\n",
              "                style=\"display:none;\">\n",
              "\n",
              "<svg xmlns=\"http://www.w3.org/2000/svg\" height=\"24px\"viewBox=\"0 0 24 24\"\n",
              "     width=\"24px\">\n",
              "    <g>\n",
              "        <path d=\"M19 3H5c-1.1 0-2 .9-2 2v14c0 1.1.9 2 2 2h14c1.1 0 2-.9 2-2V5c0-1.1-.9-2-2-2zM9 17H7v-7h2v7zm4 0h-2V7h2v10zm4 0h-2v-4h2v4z\"/>\n",
              "    </g>\n",
              "</svg>\n",
              "      </button>\n",
              "\n",
              "<style>\n",
              "  .colab-df-quickchart {\n",
              "      --bg-color: #E8F0FE;\n",
              "      --fill-color: #1967D2;\n",
              "      --hover-bg-color: #E2EBFA;\n",
              "      --hover-fill-color: #174EA6;\n",
              "      --disabled-fill-color: #AAA;\n",
              "      --disabled-bg-color: #DDD;\n",
              "  }\n",
              "\n",
              "  [theme=dark] .colab-df-quickchart {\n",
              "      --bg-color: #3B4455;\n",
              "      --fill-color: #D2E3FC;\n",
              "      --hover-bg-color: #434B5C;\n",
              "      --hover-fill-color: #FFFFFF;\n",
              "      --disabled-bg-color: #3B4455;\n",
              "      --disabled-fill-color: #666;\n",
              "  }\n",
              "\n",
              "  .colab-df-quickchart {\n",
              "    background-color: var(--bg-color);\n",
              "    border: none;\n",
              "    border-radius: 50%;\n",
              "    cursor: pointer;\n",
              "    display: none;\n",
              "    fill: var(--fill-color);\n",
              "    height: 32px;\n",
              "    padding: 0;\n",
              "    width: 32px;\n",
              "  }\n",
              "\n",
              "  .colab-df-quickchart:hover {\n",
              "    background-color: var(--hover-bg-color);\n",
              "    box-shadow: 0 1px 2px rgba(60, 64, 67, 0.3), 0 1px 3px 1px rgba(60, 64, 67, 0.15);\n",
              "    fill: var(--button-hover-fill-color);\n",
              "  }\n",
              "\n",
              "  .colab-df-quickchart-complete:disabled,\n",
              "  .colab-df-quickchart-complete:disabled:hover {\n",
              "    background-color: var(--disabled-bg-color);\n",
              "    fill: var(--disabled-fill-color);\n",
              "    box-shadow: none;\n",
              "  }\n",
              "\n",
              "  .colab-df-spinner {\n",
              "    border: 2px solid var(--fill-color);\n",
              "    border-color: transparent;\n",
              "    border-bottom-color: var(--fill-color);\n",
              "    animation:\n",
              "      spin 1s steps(1) infinite;\n",
              "  }\n",
              "\n",
              "  @keyframes spin {\n",
              "    0% {\n",
              "      border-color: transparent;\n",
              "      border-bottom-color: var(--fill-color);\n",
              "      border-left-color: var(--fill-color);\n",
              "    }\n",
              "    20% {\n",
              "      border-color: transparent;\n",
              "      border-left-color: var(--fill-color);\n",
              "      border-top-color: var(--fill-color);\n",
              "    }\n",
              "    30% {\n",
              "      border-color: transparent;\n",
              "      border-left-color: var(--fill-color);\n",
              "      border-top-color: var(--fill-color);\n",
              "      border-right-color: var(--fill-color);\n",
              "    }\n",
              "    40% {\n",
              "      border-color: transparent;\n",
              "      border-right-color: var(--fill-color);\n",
              "      border-top-color: var(--fill-color);\n",
              "    }\n",
              "    60% {\n",
              "      border-color: transparent;\n",
              "      border-right-color: var(--fill-color);\n",
              "    }\n",
              "    80% {\n",
              "      border-color: transparent;\n",
              "      border-right-color: var(--fill-color);\n",
              "      border-bottom-color: var(--fill-color);\n",
              "    }\n",
              "    90% {\n",
              "      border-color: transparent;\n",
              "      border-bottom-color: var(--fill-color);\n",
              "    }\n",
              "  }\n",
              "</style>\n",
              "\n",
              "      <script>\n",
              "        async function quickchart(key) {\n",
              "          const quickchartButtonEl =\n",
              "            document.querySelector('#' + key + ' button');\n",
              "          quickchartButtonEl.disabled = true;  // To prevent multiple clicks.\n",
              "          quickchartButtonEl.classList.add('colab-df-spinner');\n",
              "          try {\n",
              "            const charts = await google.colab.kernel.invokeFunction(\n",
              "                'suggestCharts', [key], {});\n",
              "          } catch (error) {\n",
              "            console.error('Error during call to suggestCharts:', error);\n",
              "          }\n",
              "          quickchartButtonEl.classList.remove('colab-df-spinner');\n",
              "          quickchartButtonEl.classList.add('colab-df-quickchart-complete');\n",
              "        }\n",
              "        (() => {\n",
              "          let quickchartButtonEl =\n",
              "            document.querySelector('#df-5324d144-d280-48f1-b14c-7abc741a2fe9 button');\n",
              "          quickchartButtonEl.style.display =\n",
              "            google.colab.kernel.accessAllowed ? 'block' : 'none';\n",
              "        })();\n",
              "      </script>\n",
              "    </div>\n",
              "\n",
              "    </div>\n",
              "  </div>\n"
            ],
            "application/vnd.google.colaboratory.intrinsic+json": {
              "type": "dataframe",
              "variable_name": "df_features",
              "summary": "{\n  \"name\": \"df_features\",\n  \"rows\": 12675,\n  \"fields\": [\n    {\n      \"column\": \"date\",\n      \"properties\": {\n        \"dtype\": \"object\",\n        \"num_unique_values\": 31,\n        \"samples\": [\n          \"2020-08-09\",\n          \"2020-08-04\",\n          \"2020-07-18\"\n        ],\n        \"semantic_type\": \"\",\n        \"description\": \"\"\n      }\n    },\n    {\n      \"column\": \"depth\",\n      \"properties\": {\n        \"dtype\": \"number\",\n        \"std\": 23.762268715811803,\n        \"min\": -3.50999999046326,\n        \"max\": 558.81,\n        \"num_unique_values\": 3070,\n        \"samples\": [\n          123.9,\n          8.79,\n          8.74\n        ],\n        \"semantic_type\": \"\",\n        \"description\": \"\"\n      }\n    },\n    {\n      \"column\": \"mag\",\n      \"properties\": {\n        \"dtype\": \"number\",\n        \"std\": 0.8666436682580339,\n        \"min\": -1.43,\n        \"max\": 7.8,\n        \"num_unique_values\": 548,\n        \"samples\": [\n          1.28,\n          2.99,\n          1.52\n        ],\n        \"semantic_type\": \"\",\n        \"description\": \"\"\n      }\n    },\n    {\n      \"column\": \"place\",\n      \"properties\": {\n        \"dtype\": \"category\",\n        \"num_unique_values\": 19,\n        \"samples\": [\n          \"Papua New Guinea\",\n          \"Indonesia\",\n          \"Utah\"\n        ],\n        \"semantic_type\": \"\",\n        \"description\": \"\"\n      }\n    },\n    {\n      \"column\": \"latitude\",\n      \"properties\": {\n        \"dtype\": \"number\",\n        \"std\": 12.497555856310488,\n        \"min\": -24.5156,\n        \"max\": 58.542317588987196,\n        \"num_unique_values\": 19,\n        \"samples\": [\n          -5.297074418604652,\n          -4.186165934065934,\n          39.69196368171207\n        ],\n        \"semantic_type\": \"\",\n        \"description\": \"\"\n      }\n    },\n    {\n      \"column\": \"longitude\",\n      \"properties\": {\n        \"dtype\": \"number\",\n        \"std\": 30.822379718835833,\n        \"min\": -155.42090843900405,\n        \"max\": 148.8949534883721,\n        \"num_unique_values\": 19,\n        \"samples\": [\n          148.8949534883721,\n          119.93117032967032,\n          -111.7596342428015\n        ],\n        \"semantic_type\": \"\",\n        \"description\": \"\"\n      }\n    },\n    {\n      \"column\": \"depth_avg_22\",\n      \"properties\": {\n        \"dtype\": \"number\",\n        \"std\": 13.117593889159544,\n        \"min\": -0.13363636363636353,\n        \"max\": 134.70409090909092,\n        \"num_unique_values\": 11913,\n        \"samples\": [\n          11.599999999999993,\n          6.435909090909087,\n          22.652272806926213\n        ],\n        \"semantic_type\": \"\",\n        \"description\": \"\"\n      }\n    },\n    {\n      \"column\": \"depth_avg_15\",\n      \"properties\": {\n        \"dtype\": \"number\",\n        \"std\": 13.428801410808369,\n        \"min\": -0.47666666666666513,\n        \"max\": 163.0426666666667,\n        \"num_unique_values\": 12002,\n        \"samples\": [\n          5.566666666666689,\n          29.626666666666786,\n          3.6506666666666487\n        ],\n        \"semantic_type\": \"\",\n        \"description\": \"\"\n      }\n    },\n    {\n      \"column\": \"depth_avg_7\",\n      \"properties\": {\n        \"dtype\": \"number\",\n        \"std\": 14.57059351721297,\n        \"min\": -2.037142857142856,\n        \"max\": 195.5342857142857,\n        \"num_unique_values\": 11893,\n        \"samples\": [\n          3.267142857142878,\n          27.228571428571374,\n          29.414285714285615\n        ],\n        \"semantic_type\": \"\",\n        \"description\": \"\"\n      }\n    },\n    {\n      \"column\": \"mag_avg_22\",\n      \"properties\": {\n        \"dtype\": \"number\",\n        \"std\": 0.5489354954158534,\n        \"min\": 0.23909090909090808,\n        \"max\": 4.731818181818182,\n        \"num_unique_values\": 10153,\n        \"samples\": [\n          4.618181818181818,\n          0.7631818181818169,\n          1.0077272727272695\n        ],\n        \"semantic_type\": \"\",\n        \"description\": \"\"\n      }\n    },\n    {\n      \"column\": \"mag_avg_15\",\n      \"properties\": {\n        \"dtype\": \"number\",\n        \"std\": 0.5628612873226209,\n        \"min\": 0.20733333333333048,\n        \"max\": 4.866666666666668,\n        \"num_unique_values\": 9832,\n        \"samples\": [\n          1.9040000059999997,\n          0.8773333333333336,\n          2.258000000000001\n        ],\n        \"semantic_type\": \"\",\n        \"description\": \"\"\n      }\n    },\n    {\n      \"column\": \"mag_avg_7\",\n      \"properties\": {\n        \"dtype\": \"number\",\n        \"std\": 0.6013240739702129,\n        \"min\": -0.12857142857143103,\n        \"max\": 5.014285714285713,\n        \"num_unique_values\": 9411,\n        \"samples\": [\n          1.207142857142861,\n          1.4271428571428568,\n          0.7657142857142858\n        ],\n        \"semantic_type\": \"\",\n        \"description\": \"\"\n      }\n    },\n    {\n      \"column\": \"mag_outcome\",\n      \"properties\": {\n        \"dtype\": \"number\",\n        \"std\": 0,\n        \"min\": 0,\n        \"max\": 1,\n        \"num_unique_values\": 2,\n        \"samples\": [\n          0,\n          1\n        ],\n        \"semantic_type\": \"\",\n        \"description\": \"\"\n      }\n    }\n  ]\n}"
            }
          },
          "metadata": {},
          "execution_count": 38
        }
      ],
      "source": [
        "df_features.head()"
      ]
    },
    {
      "cell_type": "code",
      "execution_count": 39,
      "metadata": {
        "id": "dYpERaWYS5Ai"
      },
      "outputs": [],
      "source": [
        "predict_path = '/content/drive/My Drive/Natural_Disasters/earthquake/Earthquakedata_predict.db'\n",
        "engine_predict = create_engine(f'sqlite:///{predict_path}')\n",
        "df_predict = pd.read_sql_table('Earthquake_predict', con=engine_predict)\n"
      ]
    },
    {
      "cell_type": "code",
      "execution_count": 40,
      "metadata": {
        "colab": {
          "base_uri": "https://localhost:8080/",
          "height": 206
        },
        "id": "hxdlaTMFS5Aj",
        "outputId": "c1572ab1-6b47-4012-cb88-1f584a12b300"
      },
      "outputs": [
        {
          "output_type": "execute_result",
          "data": {
            "text/plain": [
              "         date   depth  mag             place  latitude   longitude  \\\n",
              "0  2020-08-03  140.81  4.4  Papua New Guinea -5.297074  148.894953   \n",
              "1  2020-08-04  172.48  5.4  Papua New Guinea -5.297074  148.894953   \n",
              "2  2020-08-05   94.65  5.0  Papua New Guinea -5.297074  148.894953   \n",
              "3  2020-08-06  196.24  4.8  Papua New Guinea -5.297074  148.894953   \n",
              "4  2020-08-06   85.48  4.7  Papua New Guinea -5.297074  148.894953   \n",
              "\n",
              "   depth_avg_22  depth_avg_15  depth_avg_7  mag_avg_22  mag_avg_15  mag_avg_7  \\\n",
              "0     73.251364     70.354000    83.355714    4.718182    4.820000   4.942857   \n",
              "1     76.803636     75.935333   106.567143    4.763636    4.893333   4.857143   \n",
              "2     79.948636     76.711333   105.600000    4.790909    4.933333   4.971429   \n",
              "3     87.892273     89.127333   113.395714    4.813636    4.926667   5.071429   \n",
              "4     88.371818     81.767333   124.178571    4.809091    4.953333   4.914286   \n",
              "\n",
              "   mag_outcome  \n",
              "0          NaN  \n",
              "1          NaN  \n",
              "2          NaN  \n",
              "3          NaN  \n",
              "4          NaN  "
            ],
            "text/html": [
              "\n",
              "  <div id=\"df-7cc5de4a-51a2-4780-9953-a620d4e034fa\" class=\"colab-df-container\">\n",
              "    <div>\n",
              "<style scoped>\n",
              "    .dataframe tbody tr th:only-of-type {\n",
              "        vertical-align: middle;\n",
              "    }\n",
              "\n",
              "    .dataframe tbody tr th {\n",
              "        vertical-align: top;\n",
              "    }\n",
              "\n",
              "    .dataframe thead th {\n",
              "        text-align: right;\n",
              "    }\n",
              "</style>\n",
              "<table border=\"1\" class=\"dataframe\">\n",
              "  <thead>\n",
              "    <tr style=\"text-align: right;\">\n",
              "      <th></th>\n",
              "      <th>date</th>\n",
              "      <th>depth</th>\n",
              "      <th>mag</th>\n",
              "      <th>place</th>\n",
              "      <th>latitude</th>\n",
              "      <th>longitude</th>\n",
              "      <th>depth_avg_22</th>\n",
              "      <th>depth_avg_15</th>\n",
              "      <th>depth_avg_7</th>\n",
              "      <th>mag_avg_22</th>\n",
              "      <th>mag_avg_15</th>\n",
              "      <th>mag_avg_7</th>\n",
              "      <th>mag_outcome</th>\n",
              "    </tr>\n",
              "  </thead>\n",
              "  <tbody>\n",
              "    <tr>\n",
              "      <th>0</th>\n",
              "      <td>2020-08-03</td>\n",
              "      <td>140.81</td>\n",
              "      <td>4.4</td>\n",
              "      <td>Papua New Guinea</td>\n",
              "      <td>-5.297074</td>\n",
              "      <td>148.894953</td>\n",
              "      <td>73.251364</td>\n",
              "      <td>70.354000</td>\n",
              "      <td>83.355714</td>\n",
              "      <td>4.718182</td>\n",
              "      <td>4.820000</td>\n",
              "      <td>4.942857</td>\n",
              "      <td>NaN</td>\n",
              "    </tr>\n",
              "    <tr>\n",
              "      <th>1</th>\n",
              "      <td>2020-08-04</td>\n",
              "      <td>172.48</td>\n",
              "      <td>5.4</td>\n",
              "      <td>Papua New Guinea</td>\n",
              "      <td>-5.297074</td>\n",
              "      <td>148.894953</td>\n",
              "      <td>76.803636</td>\n",
              "      <td>75.935333</td>\n",
              "      <td>106.567143</td>\n",
              "      <td>4.763636</td>\n",
              "      <td>4.893333</td>\n",
              "      <td>4.857143</td>\n",
              "      <td>NaN</td>\n",
              "    </tr>\n",
              "    <tr>\n",
              "      <th>2</th>\n",
              "      <td>2020-08-05</td>\n",
              "      <td>94.65</td>\n",
              "      <td>5.0</td>\n",
              "      <td>Papua New Guinea</td>\n",
              "      <td>-5.297074</td>\n",
              "      <td>148.894953</td>\n",
              "      <td>79.948636</td>\n",
              "      <td>76.711333</td>\n",
              "      <td>105.600000</td>\n",
              "      <td>4.790909</td>\n",
              "      <td>4.933333</td>\n",
              "      <td>4.971429</td>\n",
              "      <td>NaN</td>\n",
              "    </tr>\n",
              "    <tr>\n",
              "      <th>3</th>\n",
              "      <td>2020-08-06</td>\n",
              "      <td>196.24</td>\n",
              "      <td>4.8</td>\n",
              "      <td>Papua New Guinea</td>\n",
              "      <td>-5.297074</td>\n",
              "      <td>148.894953</td>\n",
              "      <td>87.892273</td>\n",
              "      <td>89.127333</td>\n",
              "      <td>113.395714</td>\n",
              "      <td>4.813636</td>\n",
              "      <td>4.926667</td>\n",
              "      <td>5.071429</td>\n",
              "      <td>NaN</td>\n",
              "    </tr>\n",
              "    <tr>\n",
              "      <th>4</th>\n",
              "      <td>2020-08-06</td>\n",
              "      <td>85.48</td>\n",
              "      <td>4.7</td>\n",
              "      <td>Papua New Guinea</td>\n",
              "      <td>-5.297074</td>\n",
              "      <td>148.894953</td>\n",
              "      <td>88.371818</td>\n",
              "      <td>81.767333</td>\n",
              "      <td>124.178571</td>\n",
              "      <td>4.809091</td>\n",
              "      <td>4.953333</td>\n",
              "      <td>4.914286</td>\n",
              "      <td>NaN</td>\n",
              "    </tr>\n",
              "  </tbody>\n",
              "</table>\n",
              "</div>\n",
              "    <div class=\"colab-df-buttons\">\n",
              "\n",
              "  <div class=\"colab-df-container\">\n",
              "    <button class=\"colab-df-convert\" onclick=\"convertToInteractive('df-7cc5de4a-51a2-4780-9953-a620d4e034fa')\"\n",
              "            title=\"Convert this dataframe to an interactive table.\"\n",
              "            style=\"display:none;\">\n",
              "\n",
              "  <svg xmlns=\"http://www.w3.org/2000/svg\" height=\"24px\" viewBox=\"0 -960 960 960\">\n",
              "    <path d=\"M120-120v-720h720v720H120Zm60-500h600v-160H180v160Zm220 220h160v-160H400v160Zm0 220h160v-160H400v160ZM180-400h160v-160H180v160Zm440 0h160v-160H620v160ZM180-180h160v-160H180v160Zm440 0h160v-160H620v160Z\"/>\n",
              "  </svg>\n",
              "    </button>\n",
              "\n",
              "  <style>\n",
              "    .colab-df-container {\n",
              "      display:flex;\n",
              "      gap: 12px;\n",
              "    }\n",
              "\n",
              "    .colab-df-convert {\n",
              "      background-color: #E8F0FE;\n",
              "      border: none;\n",
              "      border-radius: 50%;\n",
              "      cursor: pointer;\n",
              "      display: none;\n",
              "      fill: #1967D2;\n",
              "      height: 32px;\n",
              "      padding: 0 0 0 0;\n",
              "      width: 32px;\n",
              "    }\n",
              "\n",
              "    .colab-df-convert:hover {\n",
              "      background-color: #E2EBFA;\n",
              "      box-shadow: 0px 1px 2px rgba(60, 64, 67, 0.3), 0px 1px 3px 1px rgba(60, 64, 67, 0.15);\n",
              "      fill: #174EA6;\n",
              "    }\n",
              "\n",
              "    .colab-df-buttons div {\n",
              "      margin-bottom: 4px;\n",
              "    }\n",
              "\n",
              "    [theme=dark] .colab-df-convert {\n",
              "      background-color: #3B4455;\n",
              "      fill: #D2E3FC;\n",
              "    }\n",
              "\n",
              "    [theme=dark] .colab-df-convert:hover {\n",
              "      background-color: #434B5C;\n",
              "      box-shadow: 0px 1px 3px 1px rgba(0, 0, 0, 0.15);\n",
              "      filter: drop-shadow(0px 1px 2px rgba(0, 0, 0, 0.3));\n",
              "      fill: #FFFFFF;\n",
              "    }\n",
              "  </style>\n",
              "\n",
              "    <script>\n",
              "      const buttonEl =\n",
              "        document.querySelector('#df-7cc5de4a-51a2-4780-9953-a620d4e034fa button.colab-df-convert');\n",
              "      buttonEl.style.display =\n",
              "        google.colab.kernel.accessAllowed ? 'block' : 'none';\n",
              "\n",
              "      async function convertToInteractive(key) {\n",
              "        const element = document.querySelector('#df-7cc5de4a-51a2-4780-9953-a620d4e034fa');\n",
              "        const dataTable =\n",
              "          await google.colab.kernel.invokeFunction('convertToInteractive',\n",
              "                                                    [key], {});\n",
              "        if (!dataTable) return;\n",
              "\n",
              "        const docLinkHtml = 'Like what you see? Visit the ' +\n",
              "          '<a target=\"_blank\" href=https://colab.research.google.com/notebooks/data_table.ipynb>data table notebook</a>'\n",
              "          + ' to learn more about interactive tables.';\n",
              "        element.innerHTML = '';\n",
              "        dataTable['output_type'] = 'display_data';\n",
              "        await google.colab.output.renderOutput(dataTable, element);\n",
              "        const docLink = document.createElement('div');\n",
              "        docLink.innerHTML = docLinkHtml;\n",
              "        element.appendChild(docLink);\n",
              "      }\n",
              "    </script>\n",
              "  </div>\n",
              "\n",
              "\n",
              "    <div id=\"df-409b9d9f-1bbd-4f10-8b70-bbee6f42d9b3\">\n",
              "      <button class=\"colab-df-quickchart\" onclick=\"quickchart('df-409b9d9f-1bbd-4f10-8b70-bbee6f42d9b3')\"\n",
              "                title=\"Suggest charts\"\n",
              "                style=\"display:none;\">\n",
              "\n",
              "<svg xmlns=\"http://www.w3.org/2000/svg\" height=\"24px\"viewBox=\"0 0 24 24\"\n",
              "     width=\"24px\">\n",
              "    <g>\n",
              "        <path d=\"M19 3H5c-1.1 0-2 .9-2 2v14c0 1.1.9 2 2 2h14c1.1 0 2-.9 2-2V5c0-1.1-.9-2-2-2zM9 17H7v-7h2v7zm4 0h-2V7h2v10zm4 0h-2v-4h2v4z\"/>\n",
              "    </g>\n",
              "</svg>\n",
              "      </button>\n",
              "\n",
              "<style>\n",
              "  .colab-df-quickchart {\n",
              "      --bg-color: #E8F0FE;\n",
              "      --fill-color: #1967D2;\n",
              "      --hover-bg-color: #E2EBFA;\n",
              "      --hover-fill-color: #174EA6;\n",
              "      --disabled-fill-color: #AAA;\n",
              "      --disabled-bg-color: #DDD;\n",
              "  }\n",
              "\n",
              "  [theme=dark] .colab-df-quickchart {\n",
              "      --bg-color: #3B4455;\n",
              "      --fill-color: #D2E3FC;\n",
              "      --hover-bg-color: #434B5C;\n",
              "      --hover-fill-color: #FFFFFF;\n",
              "      --disabled-bg-color: #3B4455;\n",
              "      --disabled-fill-color: #666;\n",
              "  }\n",
              "\n",
              "  .colab-df-quickchart {\n",
              "    background-color: var(--bg-color);\n",
              "    border: none;\n",
              "    border-radius: 50%;\n",
              "    cursor: pointer;\n",
              "    display: none;\n",
              "    fill: var(--fill-color);\n",
              "    height: 32px;\n",
              "    padding: 0;\n",
              "    width: 32px;\n",
              "  }\n",
              "\n",
              "  .colab-df-quickchart:hover {\n",
              "    background-color: var(--hover-bg-color);\n",
              "    box-shadow: 0 1px 2px rgba(60, 64, 67, 0.3), 0 1px 3px 1px rgba(60, 64, 67, 0.15);\n",
              "    fill: var(--button-hover-fill-color);\n",
              "  }\n",
              "\n",
              "  .colab-df-quickchart-complete:disabled,\n",
              "  .colab-df-quickchart-complete:disabled:hover {\n",
              "    background-color: var(--disabled-bg-color);\n",
              "    fill: var(--disabled-fill-color);\n",
              "    box-shadow: none;\n",
              "  }\n",
              "\n",
              "  .colab-df-spinner {\n",
              "    border: 2px solid var(--fill-color);\n",
              "    border-color: transparent;\n",
              "    border-bottom-color: var(--fill-color);\n",
              "    animation:\n",
              "      spin 1s steps(1) infinite;\n",
              "  }\n",
              "\n",
              "  @keyframes spin {\n",
              "    0% {\n",
              "      border-color: transparent;\n",
              "      border-bottom-color: var(--fill-color);\n",
              "      border-left-color: var(--fill-color);\n",
              "    }\n",
              "    20% {\n",
              "      border-color: transparent;\n",
              "      border-left-color: var(--fill-color);\n",
              "      border-top-color: var(--fill-color);\n",
              "    }\n",
              "    30% {\n",
              "      border-color: transparent;\n",
              "      border-left-color: var(--fill-color);\n",
              "      border-top-color: var(--fill-color);\n",
              "      border-right-color: var(--fill-color);\n",
              "    }\n",
              "    40% {\n",
              "      border-color: transparent;\n",
              "      border-right-color: var(--fill-color);\n",
              "      border-top-color: var(--fill-color);\n",
              "    }\n",
              "    60% {\n",
              "      border-color: transparent;\n",
              "      border-right-color: var(--fill-color);\n",
              "    }\n",
              "    80% {\n",
              "      border-color: transparent;\n",
              "      border-right-color: var(--fill-color);\n",
              "      border-bottom-color: var(--fill-color);\n",
              "    }\n",
              "    90% {\n",
              "      border-color: transparent;\n",
              "      border-bottom-color: var(--fill-color);\n",
              "    }\n",
              "  }\n",
              "</style>\n",
              "\n",
              "      <script>\n",
              "        async function quickchart(key) {\n",
              "          const quickchartButtonEl =\n",
              "            document.querySelector('#' + key + ' button');\n",
              "          quickchartButtonEl.disabled = true;  // To prevent multiple clicks.\n",
              "          quickchartButtonEl.classList.add('colab-df-spinner');\n",
              "          try {\n",
              "            const charts = await google.colab.kernel.invokeFunction(\n",
              "                'suggestCharts', [key], {});\n",
              "          } catch (error) {\n",
              "            console.error('Error during call to suggestCharts:', error);\n",
              "          }\n",
              "          quickchartButtonEl.classList.remove('colab-df-spinner');\n",
              "          quickchartButtonEl.classList.add('colab-df-quickchart-complete');\n",
              "        }\n",
              "        (() => {\n",
              "          let quickchartButtonEl =\n",
              "            document.querySelector('#df-409b9d9f-1bbd-4f10-8b70-bbee6f42d9b3 button');\n",
              "          quickchartButtonEl.style.display =\n",
              "            google.colab.kernel.accessAllowed ? 'block' : 'none';\n",
              "        })();\n",
              "      </script>\n",
              "    </div>\n",
              "\n",
              "    </div>\n",
              "  </div>\n"
            ],
            "application/vnd.google.colaboratory.intrinsic+json": {
              "type": "dataframe",
              "variable_name": "df_predict",
              "summary": "{\n  \"name\": \"df_predict\",\n  \"rows\": 155,\n  \"fields\": [\n    {\n      \"column\": \"date\",\n      \"properties\": {\n        \"dtype\": \"object\",\n        \"num_unique_values\": 14,\n        \"samples\": [\n          \"2020-08-01\",\n          \"2020-08-02\",\n          \"2020-08-03\"\n        ],\n        \"semantic_type\": \"\",\n        \"description\": \"\"\n      }\n    },\n    {\n      \"column\": \"depth\",\n      \"properties\": {\n        \"dtype\": \"number\",\n        \"std\": 77.90284874991393,\n        \"min\": -3.48,\n        \"max\": 633.36,\n        \"num_unique_values\": 128,\n        \"samples\": [\n          46.19,\n          1.9,\n          15.22\n        ],\n        \"semantic_type\": \"\",\n        \"description\": \"\"\n      }\n    },\n    {\n      \"column\": \"mag\",\n      \"properties\": {\n        \"dtype\": \"number\",\n        \"std\": 1.7175367199349802,\n        \"min\": 0.21,\n        \"max\": 6.4,\n        \"num_unique_values\": 87,\n        \"samples\": [\n          5.3,\n          4.4,\n          4.2\n        ],\n        \"semantic_type\": \"\",\n        \"description\": \"\"\n      }\n    },\n    {\n      \"column\": \"place\",\n      \"properties\": {\n        \"dtype\": \"category\",\n        \"num_unique_values\": 26,\n        \"samples\": [\n          \"Oregon\",\n          \"India\",\n          \"Papua New Guinea\"\n        ],\n        \"semantic_type\": \"\",\n        \"description\": \"\"\n      }\n    },\n    {\n      \"column\": \"latitude\",\n      \"properties\": {\n        \"dtype\": \"number\",\n        \"std\": 23.5427973741438,\n        \"min\": -24.5156,\n        \"max\": 58.542317588987196,\n        \"num_unique_values\": 26,\n        \"samples\": [\n          44.04468262727158,\n          22.270152000000003,\n          -5.297074418604652\n        ],\n        \"semantic_type\": \"\",\n        \"description\": \"\"\n      }\n    },\n    {\n      \"column\": \"longitude\",\n      \"properties\": {\n        \"dtype\": \"number\",\n        \"std\": 109.50596086559523,\n        \"min\": -174.53790000000004,\n        \"max\": 167.64689166666668,\n        \"num_unique_values\": 26,\n        \"samples\": [\n          -122.68422751411762,\n          93.56786800000002,\n          148.8949534883721\n        ],\n        \"semantic_type\": \"\",\n        \"description\": \"\"\n      }\n    },\n    {\n      \"column\": \"depth_avg_22\",\n      \"properties\": {\n        \"dtype\": \"number\",\n        \"std\": 34.075375146172604,\n        \"min\": 4.45909090909091,\n        \"max\": 129.2718181818182,\n        \"num_unique_values\": 145,\n        \"samples\": [\n          42.581818181818115,\n          6.012272727272729,\n          11.806818181818182\n        ],\n        \"semantic_type\": \"\",\n        \"description\": \"\"\n      }\n    },\n    {\n      \"column\": \"depth_avg_15\",\n      \"properties\": {\n        \"dtype\": \"number\",\n        \"std\": 37.63237153234365,\n        \"min\": 2.9773333333333394,\n        \"max\": 154.79666666666665,\n        \"num_unique_values\": 148,\n        \"samples\": [\n          72.02333333333334,\n          8.193333333333348,\n          6.011333333333321\n        ],\n        \"semantic_type\": \"\",\n        \"description\": \"\"\n      }\n    },\n    {\n      \"column\": \"depth_avg_7\",\n      \"properties\": {\n        \"dtype\": \"number\",\n        \"std\": 41.729687194523265,\n        \"min\": 2.142857142857151,\n        \"max\": 207.97,\n        \"num_unique_values\": 144,\n        \"samples\": [\n          9.548571428571416,\n          39.96285714285714,\n          7.881428571428576\n        ],\n        \"semantic_type\": \"\",\n        \"description\": \"\"\n      }\n    },\n    {\n      \"column\": \"mag_avg_22\",\n      \"properties\": {\n        \"dtype\": \"number\",\n        \"std\": 1.5695721225407744,\n        \"min\": 0.799090909090909,\n        \"max\": 4.813636363636365,\n        \"num_unique_values\": 144,\n        \"samples\": [\n          4.613636363636366,\n          2.899090909090908,\n          1.0631818181818173\n        ],\n        \"semantic_type\": \"\",\n        \"description\": \"\"\n      }\n    },\n    {\n      \"column\": \"mag_avg_15\",\n      \"properties\": {\n        \"dtype\": \"number\",\n        \"std\": 1.5888736083044084,\n        \"min\": 0.8073333333333327,\n        \"max\": 4.953333333333335,\n        \"num_unique_values\": 144,\n        \"samples\": [\n          4.653333333333336,\n          4.4799999999999995,\n          1.1426666666666663\n        ],\n        \"semantic_type\": \"\",\n        \"description\": \"\"\n      }\n    },\n    {\n      \"column\": \"mag_avg_7\",\n      \"properties\": {\n        \"dtype\": \"number\",\n        \"std\": 1.6204364117395829,\n        \"min\": 0.7428571428571421,\n        \"max\": 5.099999999999999,\n        \"num_unique_values\": 144,\n        \"samples\": [\n          1.0885714285714283,\n          2.844285714285714,\n          1.2814285714285703\n        ],\n        \"semantic_type\": \"\",\n        \"description\": \"\"\n      }\n    },\n    {\n      \"column\": \"mag_outcome\",\n      \"properties\": {\n        \"dtype\": \"number\",\n        \"std\": null,\n        \"min\": null,\n        \"max\": null,\n        \"num_unique_values\": 0,\n        \"samples\": [],\n        \"semantic_type\": \"\",\n        \"description\": \"\"\n      }\n    }\n  ]\n}"
            }
          },
          "metadata": {},
          "execution_count": 40
        }
      ],
      "source": [
        "# Live data to be predicted on after being trained of rolling period for next 7 days.\n",
        "#Hence NaN outcome that has to be predicted\n",
        "\n",
        "df_predict.head()"
      ]
    },
    {
      "cell_type": "markdown",
      "metadata": {
        "id": "FfawHyBMS5Aj"
      },
      "source": [
        "#### Training is done by considering 22, 15, 7 days window past features rolling average and outcome data is shifted to next 7 days as prediction."
      ]
    },
    {
      "cell_type": "code",
      "execution_count": 41,
      "metadata": {
        "id": "zLJgT2S8S5Aj"
      },
      "outputs": [],
      "source": [
        "# Selection of features that are needed for prediction and hence consider only them rest are just ignored for prediction purpose.\n",
        "\n",
        "features = [f for f in list(df_features) if f not in ['date', 'lon_box_mean',\n",
        " 'lat_box_mean', 'mag_outcome', 'mag', 'place',\n",
        " 'combo_box_mean',  'latitude',\n",
        " 'longitude']]\n",
        "\n",
        "# splitting traing and testing dataset with trainging size = 70% and test = 30%\n",
        "X_train, X_test, y_train, y_test = train_test_split(df_features[features],\n",
        "                     df_features['mag_outcome'], test_size=0.3, random_state=42)\n",
        ""
      ]
    },
    {
      "cell_type": "code",
      "execution_count": 42,
      "metadata": {
        "colab": {
          "base_uri": "https://localhost:8080/"
        },
        "id": "9tyS6Ex1S5Ak",
        "outputId": "6e90f842-f704-4726-96b0-c8d99eb0340d"
      },
      "outputs": [
        {
          "output_type": "execute_result",
          "data": {
            "text/plain": [
              "['depth',\n",
              " 'depth_avg_22',\n",
              " 'depth_avg_15',\n",
              " 'depth_avg_7',\n",
              " 'mag_avg_22',\n",
              " 'mag_avg_15',\n",
              " 'mag_avg_7']"
            ]
          },
          "metadata": {},
          "execution_count": 42
        }
      ],
      "source": [
        "features"
      ]
    },
    {
      "cell_type": "markdown",
      "metadata": {
        "id": "AP2cD-OkS5Ak"
      },
      "source": [
        "#### Training phase\n",
        "\n",
        "* Models used are :\n",
        "    * Adaboost classifier with DecisionTree\n",
        "    * Adaboost classifier with RandomForest\n",
        "    * GridSearch CV as hyper parameter tunning\n",
        "    \n",
        "\n",
        "* Model used for Deployment of application :\n",
        "    * Xgboost with parameters set from above models"
      ]
    },
    {
      "cell_type": "markdown",
      "metadata": {
        "id": "VVGoL7P9S5Ak"
      },
      "source": [
        "#### Adaboost Decision Tree Classifier"
      ]
    },
    {
      "cell_type": "code",
      "execution_count": 43,
      "metadata": {
        "id": "XSTE1b-yS5Ak"
      },
      "outputs": [],
      "source": [
        "from sklearn.ensemble import RandomForestClassifier\n",
        "from sklearn.ensemble import AdaBoostClassifier\n",
        "from sklearn.tree import DecisionTreeClassifier\n",
        "from sklearn.model_selection import GridSearchCV\n",
        "\n",
        "param_grid = {\n",
        "              \"estimator__max_depth\" :   [2,5,7],\n",
        "              \"n_estimators\": [200, 400, 600]\n",
        "             }\n",
        "\n",
        "# base estimator\n",
        "tree = DecisionTreeClassifier()\n",
        "\n",
        "# adaboost with the tree as base estimator\n",
        "# learning rate is arbitrarily set to 0.6,\n",
        "ABC = AdaBoostClassifier(\n",
        "    estimator=tree,\n",
        "    learning_rate=0.6,\n",
        "    algorithm=\"SAMME\")"
      ]
    },
    {
      "cell_type": "markdown",
      "metadata": {
        "id": "OxtwEQV0S5Ak"
      },
      "source": [
        "#### Parameter tunning with GridSearch CV"
      ]
    },
    {
      "cell_type": "code",
      "execution_count": 44,
      "metadata": {
        "id": "pZ5BnJ_4S5Ak"
      },
      "outputs": [],
      "source": [
        "# run grid search\n",
        "grid_search_ABC = GridSearchCV(ABC,\n",
        "                               param_grid=param_grid,\n",
        "                               scoring = 'roc_auc',\n",
        "                               return_train_score=True,\n",
        "                               verbose = 1)"
      ]
    },
    {
      "cell_type": "code",
      "execution_count": 50,
      "metadata": {
        "colab": {
          "base_uri": "https://localhost:8080/",
          "height": 315
        },
        "id": "XArg91zrS5Al",
        "outputId": "d9bfda58-fb8a-40b8-a750-a117305f7683"
      },
      "outputs": [
        {
          "output_type": "stream",
          "name": "stdout",
          "text": [
            "Fitting 5 folds for each of 9 candidates, totalling 45 fits\n"
          ]
        },
        {
          "output_type": "error",
          "ename": "KeyboardInterrupt",
          "evalue": "",
          "traceback": [
            "\u001b[0;31m---------------------------------------------------------------------------\u001b[0m",
            "\u001b[0;31mKeyboardInterrupt\u001b[0m                         Traceback (most recent call last)",
            "\u001b[0;32m/tmp/ipython-input-50-2789146091.py\u001b[0m in \u001b[0;36m<cell line: 0>\u001b[0;34m()\u001b[0m\n\u001b[0;32m----> 1\u001b[0;31m \u001b[0mgrid_search_ABC\u001b[0m\u001b[0;34m.\u001b[0m\u001b[0mfit\u001b[0m\u001b[0;34m(\u001b[0m\u001b[0mX_train\u001b[0m\u001b[0;34m,\u001b[0m\u001b[0my_train\u001b[0m\u001b[0;34m)\u001b[0m\u001b[0;34m\u001b[0m\u001b[0;34m\u001b[0m\u001b[0m\n\u001b[0m",
            "\u001b[0;32m/usr/local/lib/python3.11/dist-packages/sklearn/base.py\u001b[0m in \u001b[0;36mwrapper\u001b[0;34m(estimator, *args, **kwargs)\u001b[0m\n\u001b[1;32m   1387\u001b[0m                 )\n\u001b[1;32m   1388\u001b[0m             ):\n\u001b[0;32m-> 1389\u001b[0;31m                 \u001b[0;32mreturn\u001b[0m \u001b[0mfit_method\u001b[0m\u001b[0;34m(\u001b[0m\u001b[0mestimator\u001b[0m\u001b[0;34m,\u001b[0m \u001b[0;34m*\u001b[0m\u001b[0margs\u001b[0m\u001b[0;34m,\u001b[0m \u001b[0;34m**\u001b[0m\u001b[0mkwargs\u001b[0m\u001b[0;34m)\u001b[0m\u001b[0;34m\u001b[0m\u001b[0;34m\u001b[0m\u001b[0m\n\u001b[0m\u001b[1;32m   1390\u001b[0m \u001b[0;34m\u001b[0m\u001b[0m\n\u001b[1;32m   1391\u001b[0m         \u001b[0;32mreturn\u001b[0m \u001b[0mwrapper\u001b[0m\u001b[0;34m\u001b[0m\u001b[0;34m\u001b[0m\u001b[0m\n",
            "\u001b[0;32m/usr/local/lib/python3.11/dist-packages/sklearn/model_selection/_search.py\u001b[0m in \u001b[0;36mfit\u001b[0;34m(self, X, y, **params)\u001b[0m\n\u001b[1;32m   1022\u001b[0m                 \u001b[0;32mreturn\u001b[0m \u001b[0mresults\u001b[0m\u001b[0;34m\u001b[0m\u001b[0;34m\u001b[0m\u001b[0m\n\u001b[1;32m   1023\u001b[0m \u001b[0;34m\u001b[0m\u001b[0m\n\u001b[0;32m-> 1024\u001b[0;31m             \u001b[0mself\u001b[0m\u001b[0;34m.\u001b[0m\u001b[0m_run_search\u001b[0m\u001b[0;34m(\u001b[0m\u001b[0mevaluate_candidates\u001b[0m\u001b[0;34m)\u001b[0m\u001b[0;34m\u001b[0m\u001b[0;34m\u001b[0m\u001b[0m\n\u001b[0m\u001b[1;32m   1025\u001b[0m \u001b[0;34m\u001b[0m\u001b[0m\n\u001b[1;32m   1026\u001b[0m             \u001b[0;31m# multimetric is determined here because in the case of a callable\u001b[0m\u001b[0;34m\u001b[0m\u001b[0;34m\u001b[0m\u001b[0m\n",
            "\u001b[0;32m/usr/local/lib/python3.11/dist-packages/sklearn/model_selection/_search.py\u001b[0m in \u001b[0;36m_run_search\u001b[0;34m(self, evaluate_candidates)\u001b[0m\n\u001b[1;32m   1569\u001b[0m     \u001b[0;32mdef\u001b[0m \u001b[0m_run_search\u001b[0m\u001b[0;34m(\u001b[0m\u001b[0mself\u001b[0m\u001b[0;34m,\u001b[0m \u001b[0mevaluate_candidates\u001b[0m\u001b[0;34m)\u001b[0m\u001b[0;34m:\u001b[0m\u001b[0;34m\u001b[0m\u001b[0;34m\u001b[0m\u001b[0m\n\u001b[1;32m   1570\u001b[0m         \u001b[0;34m\"\"\"Search all candidates in param_grid\"\"\"\u001b[0m\u001b[0;34m\u001b[0m\u001b[0;34m\u001b[0m\u001b[0m\n\u001b[0;32m-> 1571\u001b[0;31m         \u001b[0mevaluate_candidates\u001b[0m\u001b[0;34m(\u001b[0m\u001b[0mParameterGrid\u001b[0m\u001b[0;34m(\u001b[0m\u001b[0mself\u001b[0m\u001b[0;34m.\u001b[0m\u001b[0mparam_grid\u001b[0m\u001b[0;34m)\u001b[0m\u001b[0;34m)\u001b[0m\u001b[0;34m\u001b[0m\u001b[0;34m\u001b[0m\u001b[0m\n\u001b[0m\u001b[1;32m   1572\u001b[0m \u001b[0;34m\u001b[0m\u001b[0m\n\u001b[1;32m   1573\u001b[0m \u001b[0;34m\u001b[0m\u001b[0m\n",
            "\u001b[0;32m/usr/local/lib/python3.11/dist-packages/sklearn/model_selection/_search.py\u001b[0m in \u001b[0;36mevaluate_candidates\u001b[0;34m(candidate_params, cv, more_results)\u001b[0m\n\u001b[1;32m    968\u001b[0m                     )\n\u001b[1;32m    969\u001b[0m \u001b[0;34m\u001b[0m\u001b[0m\n\u001b[0;32m--> 970\u001b[0;31m                 out = parallel(\n\u001b[0m\u001b[1;32m    971\u001b[0m                     delayed(_fit_and_score)(\n\u001b[1;32m    972\u001b[0m                         \u001b[0mclone\u001b[0m\u001b[0;34m(\u001b[0m\u001b[0mbase_estimator\u001b[0m\u001b[0;34m)\u001b[0m\u001b[0;34m,\u001b[0m\u001b[0;34m\u001b[0m\u001b[0;34m\u001b[0m\u001b[0m\n",
            "\u001b[0;32m/usr/local/lib/python3.11/dist-packages/sklearn/utils/parallel.py\u001b[0m in \u001b[0;36m__call__\u001b[0;34m(self, iterable)\u001b[0m\n\u001b[1;32m     75\u001b[0m             \u001b[0;32mfor\u001b[0m \u001b[0mdelayed_func\u001b[0m\u001b[0;34m,\u001b[0m \u001b[0margs\u001b[0m\u001b[0;34m,\u001b[0m \u001b[0mkwargs\u001b[0m \u001b[0;32min\u001b[0m \u001b[0miterable\u001b[0m\u001b[0;34m\u001b[0m\u001b[0;34m\u001b[0m\u001b[0m\n\u001b[1;32m     76\u001b[0m         )\n\u001b[0;32m---> 77\u001b[0;31m         \u001b[0;32mreturn\u001b[0m \u001b[0msuper\u001b[0m\u001b[0;34m(\u001b[0m\u001b[0;34m)\u001b[0m\u001b[0;34m.\u001b[0m\u001b[0m__call__\u001b[0m\u001b[0;34m(\u001b[0m\u001b[0miterable_with_config\u001b[0m\u001b[0;34m)\u001b[0m\u001b[0;34m\u001b[0m\u001b[0;34m\u001b[0m\u001b[0m\n\u001b[0m\u001b[1;32m     78\u001b[0m \u001b[0;34m\u001b[0m\u001b[0m\n\u001b[1;32m     79\u001b[0m \u001b[0;34m\u001b[0m\u001b[0m\n",
            "\u001b[0;32m/usr/local/lib/python3.11/dist-packages/joblib/parallel.py\u001b[0m in \u001b[0;36m__call__\u001b[0;34m(self, iterable)\u001b[0m\n\u001b[1;32m   1984\u001b[0m             \u001b[0moutput\u001b[0m \u001b[0;34m=\u001b[0m \u001b[0mself\u001b[0m\u001b[0;34m.\u001b[0m\u001b[0m_get_sequential_output\u001b[0m\u001b[0;34m(\u001b[0m\u001b[0miterable\u001b[0m\u001b[0;34m)\u001b[0m\u001b[0;34m\u001b[0m\u001b[0;34m\u001b[0m\u001b[0m\n\u001b[1;32m   1985\u001b[0m             \u001b[0mnext\u001b[0m\u001b[0;34m(\u001b[0m\u001b[0moutput\u001b[0m\u001b[0;34m)\u001b[0m\u001b[0;34m\u001b[0m\u001b[0;34m\u001b[0m\u001b[0m\n\u001b[0;32m-> 1986\u001b[0;31m             \u001b[0;32mreturn\u001b[0m \u001b[0moutput\u001b[0m \u001b[0;32mif\u001b[0m \u001b[0mself\u001b[0m\u001b[0;34m.\u001b[0m\u001b[0mreturn_generator\u001b[0m \u001b[0;32melse\u001b[0m \u001b[0mlist\u001b[0m\u001b[0;34m(\u001b[0m\u001b[0moutput\u001b[0m\u001b[0;34m)\u001b[0m\u001b[0;34m\u001b[0m\u001b[0;34m\u001b[0m\u001b[0m\n\u001b[0m\u001b[1;32m   1987\u001b[0m \u001b[0;34m\u001b[0m\u001b[0m\n\u001b[1;32m   1988\u001b[0m         \u001b[0;31m# Let's create an ID that uniquely identifies the current call. If the\u001b[0m\u001b[0;34m\u001b[0m\u001b[0;34m\u001b[0m\u001b[0m\n",
            "\u001b[0;32m/usr/local/lib/python3.11/dist-packages/joblib/parallel.py\u001b[0m in \u001b[0;36m_get_sequential_output\u001b[0;34m(self, iterable)\u001b[0m\n\u001b[1;32m   1912\u001b[0m                 \u001b[0mself\u001b[0m\u001b[0;34m.\u001b[0m\u001b[0mn_dispatched_batches\u001b[0m \u001b[0;34m+=\u001b[0m \u001b[0;36m1\u001b[0m\u001b[0;34m\u001b[0m\u001b[0;34m\u001b[0m\u001b[0m\n\u001b[1;32m   1913\u001b[0m                 \u001b[0mself\u001b[0m\u001b[0;34m.\u001b[0m\u001b[0mn_dispatched_tasks\u001b[0m \u001b[0;34m+=\u001b[0m \u001b[0;36m1\u001b[0m\u001b[0;34m\u001b[0m\u001b[0;34m\u001b[0m\u001b[0m\n\u001b[0;32m-> 1914\u001b[0;31m                 \u001b[0mres\u001b[0m \u001b[0;34m=\u001b[0m \u001b[0mfunc\u001b[0m\u001b[0;34m(\u001b[0m\u001b[0;34m*\u001b[0m\u001b[0margs\u001b[0m\u001b[0;34m,\u001b[0m \u001b[0;34m**\u001b[0m\u001b[0mkwargs\u001b[0m\u001b[0;34m)\u001b[0m\u001b[0;34m\u001b[0m\u001b[0;34m\u001b[0m\u001b[0m\n\u001b[0m\u001b[1;32m   1915\u001b[0m                 \u001b[0mself\u001b[0m\u001b[0;34m.\u001b[0m\u001b[0mn_completed_tasks\u001b[0m \u001b[0;34m+=\u001b[0m \u001b[0;36m1\u001b[0m\u001b[0;34m\u001b[0m\u001b[0;34m\u001b[0m\u001b[0m\n\u001b[1;32m   1916\u001b[0m                 \u001b[0mself\u001b[0m\u001b[0;34m.\u001b[0m\u001b[0mprint_progress\u001b[0m\u001b[0;34m(\u001b[0m\u001b[0;34m)\u001b[0m\u001b[0;34m\u001b[0m\u001b[0;34m\u001b[0m\u001b[0m\n",
            "\u001b[0;32m/usr/local/lib/python3.11/dist-packages/sklearn/utils/parallel.py\u001b[0m in \u001b[0;36m__call__\u001b[0;34m(self, *args, **kwargs)\u001b[0m\n\u001b[1;32m    137\u001b[0m             \u001b[0mconfig\u001b[0m \u001b[0;34m=\u001b[0m \u001b[0;34m{\u001b[0m\u001b[0;34m}\u001b[0m\u001b[0;34m\u001b[0m\u001b[0;34m\u001b[0m\u001b[0m\n\u001b[1;32m    138\u001b[0m         \u001b[0;32mwith\u001b[0m \u001b[0mconfig_context\u001b[0m\u001b[0;34m(\u001b[0m\u001b[0;34m**\u001b[0m\u001b[0mconfig\u001b[0m\u001b[0;34m)\u001b[0m\u001b[0;34m:\u001b[0m\u001b[0;34m\u001b[0m\u001b[0;34m\u001b[0m\u001b[0m\n\u001b[0;32m--> 139\u001b[0;31m             \u001b[0;32mreturn\u001b[0m \u001b[0mself\u001b[0m\u001b[0;34m.\u001b[0m\u001b[0mfunction\u001b[0m\u001b[0;34m(\u001b[0m\u001b[0;34m*\u001b[0m\u001b[0margs\u001b[0m\u001b[0;34m,\u001b[0m \u001b[0;34m**\u001b[0m\u001b[0mkwargs\u001b[0m\u001b[0;34m)\u001b[0m\u001b[0;34m\u001b[0m\u001b[0;34m\u001b[0m\u001b[0m\n\u001b[0m\u001b[1;32m    140\u001b[0m \u001b[0;34m\u001b[0m\u001b[0m\n\u001b[1;32m    141\u001b[0m \u001b[0;34m\u001b[0m\u001b[0m\n",
            "\u001b[0;32m/usr/local/lib/python3.11/dist-packages/sklearn/model_selection/_validation.py\u001b[0m in \u001b[0;36m_fit_and_score\u001b[0;34m(estimator, X, y, scorer, train, test, verbose, parameters, fit_params, score_params, return_train_score, return_parameters, return_n_test_samples, return_times, return_estimator, split_progress, candidate_progress, error_score)\u001b[0m\n\u001b[1;32m    864\u001b[0m             \u001b[0mestimator\u001b[0m\u001b[0;34m.\u001b[0m\u001b[0mfit\u001b[0m\u001b[0;34m(\u001b[0m\u001b[0mX_train\u001b[0m\u001b[0;34m,\u001b[0m \u001b[0;34m**\u001b[0m\u001b[0mfit_params\u001b[0m\u001b[0;34m)\u001b[0m\u001b[0;34m\u001b[0m\u001b[0;34m\u001b[0m\u001b[0m\n\u001b[1;32m    865\u001b[0m         \u001b[0;32melse\u001b[0m\u001b[0;34m:\u001b[0m\u001b[0;34m\u001b[0m\u001b[0;34m\u001b[0m\u001b[0m\n\u001b[0;32m--> 866\u001b[0;31m             \u001b[0mestimator\u001b[0m\u001b[0;34m.\u001b[0m\u001b[0mfit\u001b[0m\u001b[0;34m(\u001b[0m\u001b[0mX_train\u001b[0m\u001b[0;34m,\u001b[0m \u001b[0my_train\u001b[0m\u001b[0;34m,\u001b[0m \u001b[0;34m**\u001b[0m\u001b[0mfit_params\u001b[0m\u001b[0;34m)\u001b[0m\u001b[0;34m\u001b[0m\u001b[0;34m\u001b[0m\u001b[0m\n\u001b[0m\u001b[1;32m    867\u001b[0m \u001b[0;34m\u001b[0m\u001b[0m\n\u001b[1;32m    868\u001b[0m     \u001b[0;32mexcept\u001b[0m \u001b[0mException\u001b[0m\u001b[0;34m:\u001b[0m\u001b[0;34m\u001b[0m\u001b[0;34m\u001b[0m\u001b[0m\n",
            "\u001b[0;32m/usr/local/lib/python3.11/dist-packages/sklearn/base.py\u001b[0m in \u001b[0;36mwrapper\u001b[0;34m(estimator, *args, **kwargs)\u001b[0m\n\u001b[1;32m   1387\u001b[0m                 )\n\u001b[1;32m   1388\u001b[0m             ):\n\u001b[0;32m-> 1389\u001b[0;31m                 \u001b[0;32mreturn\u001b[0m \u001b[0mfit_method\u001b[0m\u001b[0;34m(\u001b[0m\u001b[0mestimator\u001b[0m\u001b[0;34m,\u001b[0m \u001b[0;34m*\u001b[0m\u001b[0margs\u001b[0m\u001b[0;34m,\u001b[0m \u001b[0;34m**\u001b[0m\u001b[0mkwargs\u001b[0m\u001b[0;34m)\u001b[0m\u001b[0;34m\u001b[0m\u001b[0;34m\u001b[0m\u001b[0m\n\u001b[0m\u001b[1;32m   1390\u001b[0m \u001b[0;34m\u001b[0m\u001b[0m\n\u001b[1;32m   1391\u001b[0m         \u001b[0;32mreturn\u001b[0m \u001b[0mwrapper\u001b[0m\u001b[0;34m\u001b[0m\u001b[0;34m\u001b[0m\u001b[0m\n",
            "\u001b[0;32m/usr/local/lib/python3.11/dist-packages/sklearn/ensemble/_weight_boosting.py\u001b[0m in \u001b[0;36mfit\u001b[0;34m(self, X, y, sample_weight)\u001b[0m\n\u001b[1;32m    165\u001b[0m \u001b[0;34m\u001b[0m\u001b[0m\n\u001b[1;32m    166\u001b[0m             \u001b[0;31m# Boosting step\u001b[0m\u001b[0;34m\u001b[0m\u001b[0;34m\u001b[0m\u001b[0m\n\u001b[0;32m--> 167\u001b[0;31m             sample_weight, estimator_weight, estimator_error = self._boost(\n\u001b[0m\u001b[1;32m    168\u001b[0m                 \u001b[0miboost\u001b[0m\u001b[0;34m,\u001b[0m \u001b[0mX\u001b[0m\u001b[0;34m,\u001b[0m \u001b[0my\u001b[0m\u001b[0;34m,\u001b[0m \u001b[0msample_weight\u001b[0m\u001b[0;34m,\u001b[0m \u001b[0mrandom_state\u001b[0m\u001b[0;34m\u001b[0m\u001b[0;34m\u001b[0m\u001b[0m\n\u001b[1;32m    169\u001b[0m             )\n",
            "\u001b[0;32m/usr/local/lib/python3.11/dist-packages/sklearn/ensemble/_weight_boosting.py\u001b[0m in \u001b[0;36m_boost\u001b[0;34m(self, iboost, X, y, sample_weight, random_state)\u001b[0m\n\u001b[1;32m    568\u001b[0m         \u001b[0mestimator\u001b[0m \u001b[0;34m=\u001b[0m \u001b[0mself\u001b[0m\u001b[0;34m.\u001b[0m\u001b[0m_make_estimator\u001b[0m\u001b[0;34m(\u001b[0m\u001b[0mrandom_state\u001b[0m\u001b[0;34m=\u001b[0m\u001b[0mrandom_state\u001b[0m\u001b[0;34m)\u001b[0m\u001b[0;34m\u001b[0m\u001b[0;34m\u001b[0m\u001b[0m\n\u001b[1;32m    569\u001b[0m \u001b[0;34m\u001b[0m\u001b[0m\n\u001b[0;32m--> 570\u001b[0;31m         \u001b[0mestimator\u001b[0m\u001b[0;34m.\u001b[0m\u001b[0mfit\u001b[0m\u001b[0;34m(\u001b[0m\u001b[0mX\u001b[0m\u001b[0;34m,\u001b[0m \u001b[0my\u001b[0m\u001b[0;34m,\u001b[0m \u001b[0msample_weight\u001b[0m\u001b[0;34m=\u001b[0m\u001b[0msample_weight\u001b[0m\u001b[0;34m)\u001b[0m\u001b[0;34m\u001b[0m\u001b[0;34m\u001b[0m\u001b[0m\n\u001b[0m\u001b[1;32m    571\u001b[0m \u001b[0;34m\u001b[0m\u001b[0m\n\u001b[1;32m    572\u001b[0m         \u001b[0my_predict\u001b[0m \u001b[0;34m=\u001b[0m \u001b[0mestimator\u001b[0m\u001b[0;34m.\u001b[0m\u001b[0mpredict\u001b[0m\u001b[0;34m(\u001b[0m\u001b[0mX\u001b[0m\u001b[0;34m)\u001b[0m\u001b[0;34m\u001b[0m\u001b[0;34m\u001b[0m\u001b[0m\n",
            "\u001b[0;32m/usr/local/lib/python3.11/dist-packages/sklearn/base.py\u001b[0m in \u001b[0;36mwrapper\u001b[0;34m(estimator, *args, **kwargs)\u001b[0m\n\u001b[1;32m   1387\u001b[0m                 )\n\u001b[1;32m   1388\u001b[0m             ):\n\u001b[0;32m-> 1389\u001b[0;31m                 \u001b[0;32mreturn\u001b[0m \u001b[0mfit_method\u001b[0m\u001b[0;34m(\u001b[0m\u001b[0mestimator\u001b[0m\u001b[0;34m,\u001b[0m \u001b[0;34m*\u001b[0m\u001b[0margs\u001b[0m\u001b[0;34m,\u001b[0m \u001b[0;34m**\u001b[0m\u001b[0mkwargs\u001b[0m\u001b[0;34m)\u001b[0m\u001b[0;34m\u001b[0m\u001b[0;34m\u001b[0m\u001b[0m\n\u001b[0m\u001b[1;32m   1390\u001b[0m \u001b[0;34m\u001b[0m\u001b[0m\n\u001b[1;32m   1391\u001b[0m         \u001b[0;32mreturn\u001b[0m \u001b[0mwrapper\u001b[0m\u001b[0;34m\u001b[0m\u001b[0;34m\u001b[0m\u001b[0m\n",
            "\u001b[0;32m/usr/local/lib/python3.11/dist-packages/sklearn/tree/_classes.py\u001b[0m in \u001b[0;36mfit\u001b[0;34m(self, X, y, sample_weight, check_input)\u001b[0m\n\u001b[1;32m   1022\u001b[0m         \"\"\"\n\u001b[1;32m   1023\u001b[0m \u001b[0;34m\u001b[0m\u001b[0m\n\u001b[0;32m-> 1024\u001b[0;31m         super()._fit(\n\u001b[0m\u001b[1;32m   1025\u001b[0m             \u001b[0mX\u001b[0m\u001b[0;34m,\u001b[0m\u001b[0;34m\u001b[0m\u001b[0;34m\u001b[0m\u001b[0m\n\u001b[1;32m   1026\u001b[0m             \u001b[0my\u001b[0m\u001b[0;34m,\u001b[0m\u001b[0;34m\u001b[0m\u001b[0;34m\u001b[0m\u001b[0m\n",
            "\u001b[0;32m/usr/local/lib/python3.11/dist-packages/sklearn/tree/_classes.py\u001b[0m in \u001b[0;36m_fit\u001b[0;34m(self, X, y, sample_weight, check_input, missing_values_in_feature_mask)\u001b[0m\n\u001b[1;32m    470\u001b[0m             )\n\u001b[1;32m    471\u001b[0m \u001b[0;34m\u001b[0m\u001b[0m\n\u001b[0;32m--> 472\u001b[0;31m         \u001b[0mbuilder\u001b[0m\u001b[0;34m.\u001b[0m\u001b[0mbuild\u001b[0m\u001b[0;34m(\u001b[0m\u001b[0mself\u001b[0m\u001b[0;34m.\u001b[0m\u001b[0mtree_\u001b[0m\u001b[0;34m,\u001b[0m \u001b[0mX\u001b[0m\u001b[0;34m,\u001b[0m \u001b[0my\u001b[0m\u001b[0;34m,\u001b[0m \u001b[0msample_weight\u001b[0m\u001b[0;34m,\u001b[0m \u001b[0mmissing_values_in_feature_mask\u001b[0m\u001b[0;34m)\u001b[0m\u001b[0;34m\u001b[0m\u001b[0;34m\u001b[0m\u001b[0m\n\u001b[0m\u001b[1;32m    473\u001b[0m \u001b[0;34m\u001b[0m\u001b[0m\n\u001b[1;32m    474\u001b[0m         \u001b[0;32mif\u001b[0m \u001b[0mself\u001b[0m\u001b[0;34m.\u001b[0m\u001b[0mn_outputs_\u001b[0m \u001b[0;34m==\u001b[0m \u001b[0;36m1\u001b[0m \u001b[0;32mand\u001b[0m \u001b[0mis_classifier\u001b[0m\u001b[0;34m(\u001b[0m\u001b[0mself\u001b[0m\u001b[0;34m)\u001b[0m\u001b[0;34m:\u001b[0m\u001b[0;34m\u001b[0m\u001b[0;34m\u001b[0m\u001b[0m\n",
            "\u001b[0;31mKeyboardInterrupt\u001b[0m: "
          ]
        }
      ],
      "source": [
        "grid_search_ABC.fit(X_train,y_train)"
      ]
    },
    {
      "cell_type": "code",
      "execution_count": null,
      "metadata": {
        "id": "GBvvh9l2S5Al"
      },
      "outputs": [],
      "source": [
        "pred_ABC=grid_search_ABC.predict(X_test)"
      ]
    },
    {
      "cell_type": "markdown",
      "metadata": {
        "id": "amPCaBcGS5Al"
      },
      "source": [
        "### Evaluation Area Under curve & ROC\n",
        "\n",
        "I have chose ROC_AUC score as evaluation metric since I have to binary classifify wether earthquake happened or not with given features that has been train on past few days window rolling average window.\n",
        "\n",
        " * With **adaboost decision tree classifier** and hyper parameter tunning, we get area under curve (score) = 0.8867\n",
        " * higher the auc score, better is the model since it is better at distinguishing postive and negative classes.\n",
        " * Make a note here that we get from **confusion matrix**, `False negative = 42`and `Recall score =0.7789`. We need this value apart from auc score that we will analyze later when we have tested with diffferent models below"
      ]
    },
    {
      "cell_type": "code",
      "execution_count": null,
      "metadata": {
        "id": "mqgBaB1qS5Al"
      },
      "outputs": [],
      "source": [
        "from sklearn.metrics import roc_curve\n",
        "from sklearn.metrics import auc\n",
        "from sklearn.metrics import roc_auc_score\n",
        "from sklearn.metrics import recall_score\n",
        "from sklearn.metrics import confusion_matrix\n",
        "\n",
        "print(roc_auc_score(y_test, pred_ABC))\n",
        "\n",
        "fpr, tpr, _ = roc_curve(y_test, pred_ABC)\n",
        "roc_auc = auc(fpr, tpr)\n",
        "print('AUC:', np.round(roc_auc,4))\n",
        "\n",
        "plt.title('Receiver Operating Characteristic')\n",
        "plt.plot(fpr, tpr, 'b', label = 'AUC = %0.2f' % roc_auc)\n",
        "plt.legend(loc = 'lower right')\n",
        "plt.plot([0, 1], [0, 1],'r--')\n",
        "plt.xlim([0, 1])\n",
        "plt.ylim([0, 1])\n",
        "plt.ylabel('True Positive Rate')\n",
        "plt.xlabel('False Positive Rate')\n",
        "plt.show()\n",
        "\n",
        "\n",
        "print(\"Confusion Matrix: \\n\",confusion_matrix(y_test,pred_ABC))\n",
        "print(\"\\nRecall 'TP/TP+FN' = \", recall_score(y_test,pred_ABC))"
      ]
    },
    {
      "cell_type": "markdown",
      "metadata": {
        "id": "rU_HOdRCS5Al"
      },
      "source": [
        "#### Adaboost Random Forest Classifier"
      ]
    },
    {
      "cell_type": "code",
      "execution_count": null,
      "metadata": {
        "id": "y3EIx08GS5Al"
      },
      "outputs": [],
      "source": [
        "from sklearn.datasets import make_classification\n",
        "from sklearn.ensemble import RandomForestClassifier\n",
        "\n",
        "\n",
        "rfc = RandomForestClassifier(n_jobs=-1,max_features= 'sqrt' ,n_estimators=50, oob_score = True)\n",
        "\n",
        "param_grid = {\n",
        "    'n_estimators': [200, 700],\n",
        "    'max_features': ['auto', 'sqrt', 'log2']\n",
        "}\n",
        "# GridSearch of parameter tunning.\n",
        "CV_rfc = GridSearchCV(estimator=rfc, param_grid=param_grid, cv= 5)\n",
        "CV_rfc.fit(X_train, y_train)"
      ]
    },
    {
      "cell_type": "code",
      "execution_count": null,
      "metadata": {
        "id": "O93wJ_XmS5Al"
      },
      "outputs": [],
      "source": [
        "pred=CV_rfc.predict(X_test)"
      ]
    },
    {
      "cell_type": "markdown",
      "metadata": {
        "id": "noW1iEiqS5Am"
      },
      "source": [
        "### Evaluation Area Under curve & ROC\n",
        "\n",
        "* Below is the auc score for **adaboost RandomForest classifier** with 0.916 which is slightly lower than Decision tree classifier\n",
        "* Moreover when we look at **confusion matrix**, `False Negative=38` and `Recall score = 0.8' can be observed which is slightly higher than recall score of decision tree. Thus performs better than decision tree adabooost"
      ]
    },
    {
      "cell_type": "code",
      "execution_count": null,
      "metadata": {
        "id": "f4kdJJJOS5Am"
      },
      "outputs": [],
      "source": [
        "\n",
        "print(roc_auc_score(y_test, pred))\n",
        "\n",
        "fpr, tpr, _ = roc_curve(y_test, pred)\n",
        "roc_auc = auc(fpr, tpr)\n",
        "print('AUC:', np.round(roc_auc,4))\n",
        "\n",
        "plt.title('Receiver Operating Characteristic')\n",
        "plt.plot(fpr, tpr, 'b', label = 'AUC = %0.2f' % roc_auc)\n",
        "plt.legend(loc = 'lower right')\n",
        "plt.plot([0, 1], [0, 1],'r--')\n",
        "plt.xlim([0, 1])\n",
        "plt.ylim([0, 1])\n",
        "plt.ylabel('True Positive Rate')\n",
        "plt.xlabel('False Positive Rate')\n",
        "plt.show()\n",
        "\n",
        "\n",
        "print(\"Confusion Matrix: \\n\",confusion_matrix(y_test,pred))\n",
        "print(\"\\nRecall 'TP/TP+FN' = \", recall_score(y_test,pred))"
      ]
    },
    {
      "cell_type": "markdown",
      "metadata": {
        "id": "0G1-VbhZS5Am"
      },
      "source": [
        "#### XGBoost\n",
        "* I have also tested with xgboost model below with similar parameters as I got above, since grid search CV was taking lot of time for xgboost.\n",
        " * As we can see this significantly gives higher AUC score of almost 0.0.98 and also `False negative = 37` which is similar Random Forest adaboost but xgboost has higher True positive and less False Positve compared to Random forest adaboost. i.e `Recall score = 0.805` which is similar adaboost Random Forrest tree. But XGboost is really good at classifying positive and negative classes and also better `aur_roc_score = 0.98193`."
      ]
    },
    {
      "cell_type": "code",
      "execution_count": null,
      "metadata": {
        "id": "IBlevkaaS5Am"
      },
      "outputs": [],
      "source": [
        "from sklearn.metrics import roc_curve, auc\n",
        "\n",
        "dtrain = xgb.DMatrix(X_train[features], label=y_train)\n",
        "dtest = xgb.DMatrix(X_test[features], label=y_test)\n",
        "from xgboost import XGBClassifier\n",
        "import matplotlib.pyplot as plt\n",
        "\n",
        "param = {\n",
        "        'objective': 'binary:logistic',\n",
        "        'booster': 'gbtree',\n",
        "        'eval_metric': 'auc',\n",
        "        'max_depth': 6,  # the maximum depth of each tree\n",
        "        'eta': 0.003,  # the training step for each iteration\n",
        "        'silent': 1}  # logging mode - quiet}  # the number of classes that exist in this datset\n",
        "num_round = 5000  # the number of training iterations\n",
        "bst = xgb.train(param, dtrain, num_round)\n",
        "preds = bst.predict(dtest)\n",
        "\n",
        "print (roc_auc_score(y_test, preds))\n",
        "fpr, tpr, _ = roc_curve(y_test, preds)\n",
        "roc_auc = auc(fpr, tpr)\n",
        "print('AUC:', np.round(roc_auc,4))\n",
        "\n",
        "ypred_bst = np.array(bst.predict(dtest,ntree_limit=bst.best_iteration))\n",
        "ypred_bst  = ypred_bst > 0.5\n",
        "ypred_bst = ypred_bst.astype(int)\n",
        "\n",
        "plt.title('Receiver Operating Characteristic')\n",
        "plt.plot(fpr, tpr, 'b', label = 'AUC = %0.2f' % roc_auc)\n",
        "plt.legend(loc = 'lower right')\n",
        "plt.plot([0, 1], [0, 1],'r--')\n",
        "plt.xlim([0, 1])\n",
        "plt.ylim([0, 1])\n",
        "plt.ylabel('True Positive Rate')\n",
        "plt.xlabel('False Positive Rate')\n",
        "plt.show()\n",
        "print(\"Confusion Matrix: \\n\",confusion_matrix(y_test,ypred_bst))\n",
        "print(\"\\nRecall 'TP/TP+FN' = \", recall_score(y_test,ypred_bst))"
      ]
    },
    {
      "cell_type": "markdown",
      "metadata": {
        "id": "MzPY6FAHS5Am"
      },
      "source": [
        "We can see above that xgboost algorithm has higher auc score (0.9819) than adaboost decision tree and random forest, as it is evident from the ROC curve. Hence we consider xgboost for prediction of live data"
      ]
    },
    {
      "cell_type": "markdown",
      "metadata": {
        "id": "atKHRuuCS5Am"
      },
      "source": [
        "### Final thoughts on which model to consider on application:\n",
        "* Our main Aim is to predict wether earthquake will happen or not at a given day and place. So we definitely would **not like the model with higher False Neagtive values , since its more dangerous to predict as no earthquake while in reality earthquake happend than predicting earthquake will happen given in reality it did not**. Since its `better safe than sorry!!`, we can allow False positive more than False negative\n",
        "\n",
        "* After seeing these comparision on auc_roc score, confusion matrix, and recall score, since all the above algorithm have given similar result with slightly different recall scores, Xgboost with `FN=37` but with higher `auc_score 0f 0.98` performs over-all better. Hence for webapplication deployment, I have chosen Xgboost as it also faster than adaboost"
      ]
    },
    {
      "cell_type": "markdown",
      "metadata": {
        "id": "sKSUOIwCS5Am"
      },
      "source": [
        "#### Preparing prediction and plot for live unknown data we got in `df_predict` with `mag_outcome = Nan`"
      ]
    },
    {
      "cell_type": "code",
      "execution_count": null,
      "metadata": {
        "id": "dIBe5OzbS5Am"
      },
      "outputs": [],
      "source": [
        "\n",
        "dlive = xgb.DMatrix(df_predict[features]) #, label=[])\n",
        "preds = bst.predict(dlive)\n",
        "\n",
        "plt.plot(preds)\n",
        "plt.show()"
      ]
    },
    {
      "cell_type": "markdown",
      "metadata": {
        "id": "d_q85cohS5An"
      },
      "source": [
        "### Prediction\n",
        "\n",
        "* Select specific features such as `data`,`place`,`long`,`lat` and give earthquake probablity from prediction at that place and date as `quake` probability\n",
        "* with taking only 7 days rolling period data from predict dataframe since this outcome value is NaN and we need to predict next 7 days period."
      ]
    },
    {
      "cell_type": "code",
      "execution_count": null,
      "metadata": {
        "scrolled": true,
        "id": "NuGizVK0S5An"
      },
      "outputs": [],
      "source": [
        "live_set = df_predict[['date', 'place', 'latitude', 'longitude']]\n",
        "live_set.loc[:,'quake'] = preds\n",
        "# aggregate down dups\n",
        "live_set = live_set.groupby(['date', 'place'], as_index=False).mean()\n",
        "\n",
        "# increment date to include DAYS_OUT_TO_PREDICT\n",
        "live_set['date']= pd.to_datetime(live_set['date'],format='%Y-%m-%d')\n",
        "live_set['date'] = live_set['date'] + pd.to_timedelta(7,unit='d')\n",
        "\n",
        "live_set.tail()"
      ]
    },
    {
      "cell_type": "code",
      "execution_count": null,
      "metadata": {
        "id": "80z_infyS5An"
      },
      "outputs": [],
      "source": [
        "import datetime as dt\n",
        "# convert date to proper format for prediction\n",
        "days = list(set([d for d in live_set['date'].astype(str) if d > dt.datetime.today().strftime('%Y-%m-%d')]))\n",
        "days.sort()\n",
        "\n",
        "# Predict NaN outcome value in earthquake for next day 1.\n",
        "predict_day=days[2]\n",
        "predict_day"
      ]
    },
    {
      "cell_type": "code",
      "execution_count": null,
      "metadata": {
        "id": "GKGcufGPS5An"
      },
      "outputs": [],
      "source": [
        "# place, date, lat and long with earthquake probability for next 7 days\n",
        "for i in range(0,7):\n",
        "    live_set_tmp = live_set[live_set['date'] == days[i]]\n",
        "    plt.scatter(live_set_tmp['longitude'], live_set_tmp['latitude'], s=(live_set_tmp['quake'] * 100))\n",
        "    plt.suptitle('Future Earthquakes for ' + days[i])\n",
        "    plt.xlabel('Longitude')\n",
        "    plt.ylabel('Latitude')\n",
        "    plt.grid()\n",
        "    plt.show()"
      ]
    },
    {
      "cell_type": "markdown",
      "metadata": {
        "id": "tBOdBt69S5An"
      },
      "source": [
        "### Final thoughts:\n",
        "\n",
        "\n",
        "1. So far the model looks good with xgboost as chosen model for predictions in web app haveing higher auc score and higher recall_score as I have explained under XGBoost result section why auc and recall score are chosen.\n",
        "\n",
        "\n",
        "2. Now its time to deploy the model on web application with flask and I have chosen it to deploy on https://www.pythonanywhere.com/ which is a free hosting cloud platform for web flask applications.\n",
        "\n",
        "\n",
        "3. Main Idea of Application will be predicting or forecasting these earthquake sites on given day all over the world.\n",
        "\n",
        "\n",
        "4. The user has option to change the date using a slider and see look at predicted places where earthquake is likely to happen.\n"
      ]
    },
    {
      "cell_type": "markdown",
      "metadata": {
        "id": "iJrnuxwjS5An"
      },
      "source": [
        "**Sample web app**\n",
        "![SampleImage](https://github.com/aditya-167/Realtime-Earthquake-forecasting/blob/master/Images/application.jpg)"
      ]
    },
    {
      "cell_type": "markdown",
      "metadata": {
        "id": "EJyV6ARuS5An"
      },
      "source": [
        "As you can see the webapplication has a slider to choose date and the model will predict places likely to have earthquake and predict its co-ordinate on the maps.\n",
        "\n",
        "**Note** : co-ordinates need to be converted to google maps api format, that has been done in main.py file for flask. Also The ML workflow (this notebook) have modeling and prediction based on the USGS data I had worked on, but in the application, you will get real time data prediction which updates every minute, hence prediction and places may vary from above image as it depends on time of access of the app.\n",
        "\n",
        "**deployed app [link](http://srichaditya3098.pythonanywhere.com/)**"
      ]
    },
    {
      "cell_type": "code",
      "execution_count": null,
      "metadata": {
        "id": "kpSBaiT8S5An"
      },
      "outputs": [],
      "source": [
        "\n",
        "#Install Required Packages\n",
        "!pip install opencage anvil-uplink --quiet\n",
        "\n",
        "#Imports\n",
        "from opencage.geocoder import OpenCageGeocode\n",
        "import anvil.server\n",
        "from datetime import datetime, timedelta\n",
        "import pandas as pd\n",
        "\n",
        "#Anvil Uplink Key\n",
        "anvil.server.connect(\"server_4HVJBYTXGATW4T4PF7WJC3UQ-2MHWE6HGJ5MLCOBK\")\n",
        "\n",
        "#OpenCage API Setup\n",
        "key = '9728c00b0b0942188492dc2d16d3d6cd'\n",
        "geocoder = OpenCageGeocode(key)\n",
        "\n",
        "#Server function exposed to Anvil\n",
        "@anvil.server.callable\n",
        "def predict_earthquake(location_name, days_requested):\n",
        "    try:\n",
        "        # Geocode location\n",
        "        results = geocoder.geocode(location_name)\n",
        "        if not results:\n",
        "            raise ValueError(\"Location not found.\")\n",
        "\n",
        "        lat = results[0]['geometry']['lat']\n",
        "        lon = results[0]['geometry']['lng']\n",
        "\n",
        "        # Filter predictions based on coordinates and requested future days\n",
        "        today = datetime.today().date()\n",
        "        selected_days = [today + timedelta(days=i+1) for i in range(int(days_requested))]\n",
        "\n",
        "        filtered = live_set[live_set['date'].isin(selected_days)]\n",
        "\n",
        "        # Use Haversine distance to find nearby predictions (within ~0.5 degrees box)\n",
        "        nearby_preds = filtered[(filtered['latitude'].between(lat - 0.5, lat + 0.5)) &\n",
        "                                (filtered['longitude'].between(lon - 0.5, lon + 0.5))]\n",
        "\n",
        "        if nearby_preds.empty:\n",
        "            return [[\"No predictions available near this location\"]]\n",
        "\n",
        "        # Format output table\n",
        "        output = nearby_preds[['date', 'latitude', 'longitude', 'quake']]\n",
        "        output = output.round({'quake': 3})\n",
        "\n",
        "        return output.values.tolist()  # return as list of lists for Anvil table\n",
        "\n",
        "    except Exception as e:\n",
        "        return [[f\"Error: {str(e)}\"]]\n",
        "\n",
        "# === Keep the server alive ===\n",
        "anvil.server.wait_forever()\n"
      ]
    }
  ],
  "metadata": {
    "kernelspec": {
      "display_name": "Python 3",
      "language": "python",
      "name": "python3"
    },
    "language_info": {
      "codemirror_mode": {
        "name": "ipython",
        "version": 3
      },
      "file_extension": ".py",
      "mimetype": "text/x-python",
      "name": "python",
      "nbconvert_exporter": "python",
      "pygments_lexer": "ipython3",
      "version": "3.6.9"
    },
    "colab": {
      "provenance": []
    }
  },
  "nbformat": 4,
  "nbformat_minor": 0
}